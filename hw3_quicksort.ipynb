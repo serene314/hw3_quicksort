{
  "nbformat": 4,
  "nbformat_minor": 0,
  "metadata": {
    "colab": {
      "provenance": []
    },
    "kernelspec": {
      "name": "python3",
      "display_name": "Python 3"
    },
    "language_info": {
      "name": "python"
    }
  },
  "cells": [
    {
      "cell_type": "code",
      "execution_count": 1,
      "metadata": {
        "colab": {
          "base_uri": "https://localhost:8080/"
        },
        "id": "x7dvWS1GaBTx",
        "outputId": "0a747866-26b8-490e-e07b-71b1547a941a"
      },
      "outputs": [
        {
          "output_type": "stream",
          "name": "stdout",
          "text": [
            "[3, 8, 13, 25, 33, 41, 54, 67, 84, 119]\n"
          ]
        }
      ],
      "source": [
        "def quicksort(list, left, right):                                               #定義輸入陣列和\n",
        "  if left >= right:                                                             #如果左邊>右邊，跳出程序\n",
        "    return\n",
        "  i = left                                                                      #左指標\n",
        "  j = right                                                                     #右指標\n",
        "  pivot = list[left]                                                            #基準點\n",
        "  while i != j:\n",
        "    while list[j] > pivot and i < j:                                            #從右邊開始找，找比基準點小的值\n",
        "      j -= 1\n",
        "    while list[i] <= pivot and i < j:                                           #從左邊開始找，找比基準點大的值\n",
        "      i += 1\n",
        "    if i < j:                                                                   #當左右指標沒有遇到，互換值\n",
        "      list[i], list[j] = list[j], list[i]\n",
        "    \n",
        "  list[left] = list[i]                                                          #將基準點煥至左右指標相遇的點\n",
        "  list[i] = pivot\n",
        "\n",
        "  quicksort(list, left, i-1)                                                    #將新基準點左邊及右邊也重複做一次quicksort\n",
        "  quicksort(list, i+1, right)\n",
        "\n",
        "list = [33, 67, 8, 13, 54, 119, 3, 84, 25, 41]                                  #輸入要排序的值\n",
        "quicksort(list, 0, len(list)-1)\n",
        "print(list)\n",
        "\n"
      ]
    }
  ]
}